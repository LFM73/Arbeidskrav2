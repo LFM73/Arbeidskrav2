{
 "cells": [
  {
   "cell_type": "markdown",
   "id": "f13862e8-6e1f-4285-af40-9a558a708b61",
   "metadata": {},
   "source": [
    "<b> Oppgave 6 <b/>"
   ]
  },
  {
   "cell_type": "code",
   "execution_count": null,
   "id": "efcb0563-775a-44f5-a528-c74bd1d1dd2b",
   "metadata": {},
   "outputs": [],
   "source": [
    "import numpy as np\n",
    "import matplotlib.pyplot as plt\n",
    "\n",
    "# Opprette x-verdier jevnt fordelt på intervallet [-10, 10]\n",
    "x = np.linspace(-10, 10, 200)\n",
    "\n",
    "# Beregne y-verdiene for funksjonen f(x) = -x^2 - 5\n",
    "y = -x**2 - 5\n",
    "\n",
    "plt.plot(x, y, '--', linewidth = 4, label= \"f(x) = -x^2 - 5\")\n",
    "\n",
    "plt.title(\"Graf av funksjonen f(x) = -x^2 - 5\")\n",
    "plt.xlabel(\"x\")\n",
    "plt.ylabel(\"f(x)\")\n",
    "plt.grid(True)\n",
    "plt.legend()\n",
    "\n",
    "plt.show()"
   ]
  }
 ],
 "metadata": {
  "kernelspec": {
   "display_name": "Python 3 (ipykernel)",
   "language": "python",
   "name": "python3"
  },
  "language_info": {
   "codemirror_mode": {
    "name": "ipython",
    "version": 3
   },
   "file_extension": ".py",
   "mimetype": "text/x-python",
   "name": "python",
   "nbconvert_exporter": "python",
   "pygments_lexer": "ipython3",
   "version": "3.12.4"
  }
 },
 "nbformat": 4,
 "nbformat_minor": 5
}
