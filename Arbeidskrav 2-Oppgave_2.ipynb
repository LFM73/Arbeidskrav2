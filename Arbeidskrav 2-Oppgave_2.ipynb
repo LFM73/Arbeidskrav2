{
 "cells": [
  {
   "cell_type": "markdown",
   "id": "5fa00eb5-ee9c-4b14-a67f-50d87ded2b5d",
   "metadata": {},
   "source": [
    "<b> Oppgave 2 <b/>"
   ]
  },
  {
   "cell_type": "code",
   "execution_count": null,
   "id": "7e4dc7d9-5a7b-436d-b4d9-b8c35eb082cb",
   "metadata": {},
   "outputs": [],
   "source": [
    "import math\n",
    "\n",
    "antall_elever = int(input('Skriv inn antall elever:'))\n",
    "\n",
    "antall_pr_pizza = 4\n",
    "\n",
    "print('Du må bestille', (f'{math.ceil (antall_elever / antall_pr_pizza)}'), 'pizzaer')"
   ]
  }
 ],
 "metadata": {
  "kernelspec": {
   "display_name": "Python 3 (ipykernel)",
   "language": "python",
   "name": "python3"
  },
  "language_info": {
   "codemirror_mode": {
    "name": "ipython",
    "version": 3
   },
   "file_extension": ".py",
   "mimetype": "text/x-python",
   "name": "python",
   "nbconvert_exporter": "python",
   "pygments_lexer": "ipython3",
   "version": "3.12.4"
  }
 },
 "nbformat": 4,
 "nbformat_minor": 5
}
