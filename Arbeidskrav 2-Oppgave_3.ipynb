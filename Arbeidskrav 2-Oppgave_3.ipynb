{
 "cells": [
  {
   "cell_type": "markdown",
   "id": "a81cfa2d-31c5-4420-b23b-3e47f8dbf5a7",
   "metadata": {},
   "source": [
    "<b> Oppgave 3 <b/>"
   ]
  },
  {
   "cell_type": "code",
   "execution_count": 6,
   "id": "15d80c04-b0e0-48dc-ad29-ac86fff9942a",
   "metadata": {},
   "outputs": [
    {
     "name": "stdin",
     "output_type": "stream",
     "text": [
      "Skriv inn gradtallet:  90\n"
     ]
    },
    {
     "name": "stdout",
     "output_type": "stream",
     "text": [
      "Vinkelen 90.0 grader tilsvarer 1.5708 radianer.\n"
     ]
    }
   ],
   "source": [
    "import numpy as np\n",
    "\n",
    "v_grad = float(input('Skriv inn gradtallet: '))\n",
    "v_rad = v_grad * np.pi / 180\n",
    "print(f\"Vinkelen {v_grad} grader tilsvarer {v_rad:.4f} radianer.\")\n"
   ]
  }
 ],
 "metadata": {
  "kernelspec": {
   "display_name": "Python 3 (ipykernel)",
   "language": "python",
   "name": "python3"
  },
  "language_info": {
   "codemirror_mode": {
    "name": "ipython",
    "version": 3
   },
   "file_extension": ".py",
   "mimetype": "text/x-python",
   "name": "python",
   "nbconvert_exporter": "python",
   "pygments_lexer": "ipython3",
   "version": "3.12.4"
  }
 },
 "nbformat": 4,
 "nbformat_minor": 5
}
