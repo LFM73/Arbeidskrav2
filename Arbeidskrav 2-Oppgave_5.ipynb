{
 "cells": [
  {
   "cell_type": "markdown",
   "id": "94f4a80d-ad70-494a-aeec-134ccab97426",
   "metadata": {},
   "source": [
    "<b> Oppgave 5 <b/>"
   ]
  },
  {
   "cell_type": "code",
   "execution_count": null,
   "id": "393c73af-be15-4dbb-bf19-1af7bd3440c0",
   "metadata": {},
   "outputs": [],
   "source": [
    "import math\n",
    "\n",
    "# Be brukeren om å oppgi verdiene for a og b\n",
    "a = float(input(\"Skriv inn lengden (cm) på a: \"))\n",
    "b = float(input(\"Skriv inn lengden (cm) på b: \"))\n",
    "\n",
    "# Beregning av hypotenusen til trekanten\n",
    "hypotenus = math.sqrt(a**2 + b**2)\n",
    "\n",
    "# Beregning av radius for halvsirkelen\n",
    "radius = hypotenus / 2\n",
    "\n",
    "# Beregning av arealet\n",
    "areal_trekant = (a * b) / 2\n",
    "areal_halvsirkel = (math.pi * radius**2) / 2\n",
    "total_areal = areal_trekant + areal_halvsirkel\n",
    "\n",
    "# Beregning av ytre omkrets\n",
    "halvsirkel_omkrets = math.pi * radius  # Halvparten av sirkelens omkrets\n",
    "ytre_omkrets = a + b + hypotenus + halvsirkel_omkrets\n",
    "\n",
    "# Skriv resultatene til skjerm\n",
    "print(f\"Arealet av figuren er {total_areal:.2f} kvadratcentimeter.\")\n",
    "print(f\"Den ytre omkretsen av figuren er {ytre_omkrets:.2f} centimeter.\")\n"
   ]
  }
 ],
 "metadata": {
  "kernelspec": {
   "display_name": "Python 3 (ipykernel)",
   "language": "python",
   "name": "python3"
  },
  "language_info": {
   "codemirror_mode": {
    "name": "ipython",
    "version": 3
   },
   "file_extension": ".py",
   "mimetype": "text/x-python",
   "name": "python",
   "nbconvert_exporter": "python",
   "pygments_lexer": "ipython3",
   "version": "3.12.4"
  }
 },
 "nbformat": 4,
 "nbformat_minor": 5
}
