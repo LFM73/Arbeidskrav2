{
 "cells": [
  {
   "cell_type": "markdown",
   "id": "7f55aaff-8d9d-438d-b813-2b47aeb9d98a",
   "metadata": {},
   "source": [
    "<b> Oppgave 4a <b/>"
   ]
  },
  {
   "cell_type": "code",
   "execution_count": null,
   "id": "b068eec7-1e99-44b8-af11-a24905ea0e80",
   "metadata": {},
   "outputs": [],
   "source": [
    "# Opprette dictionary med land som nøkler og informasjon om hovedstad og innbyggertall som verdier\n",
    "data = {\n",
    "    \"Norge\": [\"Oslo\", 0.634],\n",
    "    \"England\": [\"London\", 8.982],\n",
    "    \"Frankrike\": [\"Paris\", 2.161],\n",
    "    \"Italia\": [\"Roma\", 2.873]\n",
    "}\n",
    "\n",
    "# Skriver ut dictionaryen for å vise innholdet\n",
    "print(data)\n",
    "\n"
   ]
  },
  {
   "cell_type": "markdown",
   "id": "b0f2b8cc-178d-4108-9ad4-72017b837159",
   "metadata": {},
   "source": [
    "<b> Oppgave 4b <b/>"
   ]
  },
  {
   "cell_type": "code",
   "execution_count": null,
   "id": "f028d25c-3670-48a1-a60b-d6f2f3083506",
   "metadata": {},
   "outputs": [],
   "source": [
    "# Dictionary:\n",
    "\n",
    "data = {\n",
    "    \"Norge\": [\"Oslo\", 0.634],\n",
    "    \"England\": [\"London\", 8.982],\n",
    "    \"Frankrike\": [\"Paris\", 2.161],\n",
    "    \"Italia\": [\"Roma\", 2.873]\n",
    "}\n",
    "\n",
    "# Be brukeren om å skrive inn et land\n",
    "land = input(\"Skriv inn et land: \")\n",
    "\n",
    "# Hent informasjon fra dictionaryen og skriv ut setningen\n",
    "hovedstad, innbyggere = data[land]\n",
    "print(f\"{hovedstad} er hovedstaden i {land} og det er {innbyggere} mill. innbyggere i {hovedstad}.\")\n",
    "\n"
   ]
  },
  {
   "cell_type": "markdown",
   "id": "b5c09d62-8758-47f0-8617-605d20683e41",
   "metadata": {},
   "source": [
    "<b> Oppgave 4c <b/>"
   ]
  },
  {
   "cell_type": "code",
   "execution_count": null,
   "id": "10892330-e63f-4598-9370-7a9458daedce",
   "metadata": {},
   "outputs": [],
   "source": [
    "# Dictionary\n",
    "\n",
    "data = {\n",
    "    \"Norge\": [\"Oslo\", 0.634],\n",
    "    \"England\": [\"London\", 8.982],\n",
    "    \"Frankrike\": [\"Paris\", 2.161],\n",
    "    \"Italia\": [\"Roma\", 2.873]\n",
    "}\n",
    "\n",
    "# Be brukeren om å legge inn informasjon om et nytt land\n",
    "nytt_land = input(\"Skriv inn navnet på et nytt land: \")\n",
    "hovedstad = input(f\"Skriv inn hovedstaden i {nytt_land}: \")\n",
    "innbyggere = float(input(f\"Skriv inn antall innbyggere i {hovedstad} (i millioner): \"))\n",
    "\n",
    "# Legg til det nye landet i dictionaryen\n",
    "data[nytt_land] = [hovedstad, innbyggere]\n",
    "\n",
    "# Skriv ut den oppdaterte dictionaryen\n",
    "print(\"Den oppdaterte dictionaryen er:\")\n",
    "print(data)\n"
   ]
  },
  {
   "cell_type": "code",
   "execution_count": null,
   "id": "b22f8f18-2b6d-4eef-aeee-3bf62fddb001",
   "metadata": {},
   "outputs": [],
   "source": []
  }
 ],
 "metadata": {
  "kernelspec": {
   "display_name": "Python 3 (ipykernel)",
   "language": "python",
   "name": "python3"
  },
  "language_info": {
   "codemirror_mode": {
    "name": "ipython",
    "version": 3
   },
   "file_extension": ".py",
   "mimetype": "text/x-python",
   "name": "python",
   "nbconvert_exporter": "python",
   "pygments_lexer": "ipython3",
   "version": "3.12.4"
  }
 },
 "nbformat": 4,
 "nbformat_minor": 5
}
