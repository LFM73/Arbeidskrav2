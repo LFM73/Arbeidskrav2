{
 "cells": [
  {
   "cell_type": "markdown",
   "id": "8a1d9aae-6c54-4983-9efb-eddfc189b2dd",
   "metadata": {},
   "source": [
    "<b> Oppgave 1 <b/>"
   ]
  },
  {
   "cell_type": "code",
   "execution_count": null,
   "id": "c65e94e7-4b59-4e6a-ae19-eda86340d610",
   "metadata": {},
   "outputs": [],
   "source": [
    "alder = int(input('Hvilket år er du født? ') )\n",
    "\n",
    "print(\"I år, 2025, blir du\", 2025 - alder, \"år\")"
   ]
  },
  {
   "cell_type": "code",
   "execution_count": null,
   "id": "b22f8f18-2b6d-4eef-aeee-3bf62fddb001",
   "metadata": {},
   "outputs": [],
   "source": []
  }
 ],
 "metadata": {
  "kernelspec": {
   "display_name": "Python 3 (ipykernel)",
   "language": "python",
   "name": "python3"
  },
  "language_info": {
   "codemirror_mode": {
    "name": "ipython",
    "version": 3
   },
   "file_extension": ".py",
   "mimetype": "text/x-python",
   "name": "python",
   "nbconvert_exporter": "python",
   "pygments_lexer": "ipython3",
   "version": "3.12.4"
  }
 },
 "nbformat": 4,
 "nbformat_minor": 5
}
